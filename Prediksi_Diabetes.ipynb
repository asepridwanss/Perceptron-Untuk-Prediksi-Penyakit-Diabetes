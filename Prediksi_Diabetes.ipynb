{
  "cells": [
    {
      "cell_type": "code",
      "execution_count": null,
      "metadata": {
        "colab": {
          "base_uri": "https://localhost:8080/"
        },
        "id": "NpUg7i1Em7lX",
        "outputId": "fea28eeb-5b6e-4018-efb7-83e3e733e49d"
      },
      "outputs": [
        {
          "ename": "ModuleNotFoundError",
          "evalue": "No module named 'matplotlib'",
          "output_type": "error",
          "traceback": [
            "\u001b[1;31m---------------------------------------------------------------------------\u001b[0m",
            "\u001b[1;31mModuleNotFoundError\u001b[0m                       Traceback (most recent call last)",
            "Cell \u001b[1;32mIn[5], line 1\u001b[0m\n\u001b[1;32m----> 1\u001b[0m \u001b[38;5;28;01mimport\u001b[39;00m \u001b[38;5;21;01mmatplotlib\u001b[39;00m\u001b[38;5;21;01m.\u001b[39;00m\u001b[38;5;21;01mpyplot\u001b[39;00m \u001b[38;5;28;01mas\u001b[39;00m \u001b[38;5;21;01mplt\u001b[39;00m\n\u001b[0;32m      3\u001b[0m \u001b[38;5;66;03m# Define a simple perceptron model class with accuracy tracking\u001b[39;00m\n\u001b[0;32m      4\u001b[0m \u001b[38;5;28;01mclass\u001b[39;00m \u001b[38;5;21;01mSimplePerceptron\u001b[39;00m:\n",
            "\u001b[1;31mModuleNotFoundError\u001b[0m: No module named 'matplotlib'"
          ]
        }
      ],
      "source": [
        "\n",
        "import numpy as np\n",
        "import pandas as pd\n",
        "from sklearn.model_selection import train_test_split\n",
        "from sklearn.preprocessing import LabelEncoder, StandardScaler\n",
        "import pickle\n",
        "import matplotlib.pyplot as plt\n",
        "\n",
        "# Define a simple perceptron model class with accuracy tracking\n",
        "class SimplePerceptron:\n",
        "    def __init__(self, input_dim, lr=0.01, epochs=100):\n",
        "        self.weights = np.zeros(input_dim + 1)  # Bias included\n",
        "        self.lr = lr\n",
        "        self.epochs = epochs\n",
        "        self.accuracy_history = []  # To track accuracy per epoch\n",
        "\n",
        "    def activation(self, x):\n",
        "        return 1 if x >= 0 else 0\n",
        "\n",
        "    def predict(self, x):\n",
        "        z = np.dot(x, self.weights[1:]) + self.weights[0]\n",
        "        return self.activation(z)\n",
        "\n",
        "    def train(self, X, y):\n",
        "        for epoch in range(self.epochs):\n",
        "            correct_predictions = 0\n",
        "            for xi, target in zip(X, y):\n",
        "                prediction = self.predict(xi)\n",
        "                update = self.lr * (target - prediction)\n",
        "                self.weights[1:] += update * xi\n",
        "                self.weights[0] += update\n",
        "                correct_predictions += int(prediction == target)\n",
        "            # Calculate and store accuracy for this epoch\n",
        "            accuracy = correct_predictions / len(y)\n",
        "            self.accuracy_history.append(accuracy)\n",
        "\n",
        "    def plot_accuracy(self):\n",
        "        plt.plot(range(1, len(self.accuracy_history) + 1), self.accuracy_history, marker='o')\n",
        "        plt.title(\"Training Accuracy Over Epochs\")\n",
        "        plt.xlabel(\"Epoch\")\n",
        "        plt.ylabel(\"Accuracy\")\n",
        "        plt.grid()\n",
        "        plt.show()\n",
        "\n",
        "# Load and preprocess the dataset\n",
        "data = pd.read_csv('diabetes_prediction_dataset.csv')\n",
        "print(data.head())\n",
        "\n",
        "# Encode categorical variables\n",
        "label_encoders = {}\n",
        "for col in ['gender', 'smoking_history']:\n",
        "    le = LabelEncoder()\n",
        "    data[col] = le.fit_transform(data[col])\n",
        "    label_encoders[col] = le\n",
        "\n",
        "# Split features and target\n",
        "X = data.drop('diabetes', axis=1)\n",
        "y = data['diabetes']\n",
        "\n",
        "# Standardize numerical features\n",
        "scaler = StandardScaler()\n",
        "X_scaled = scaler.fit_transform(X)\n",
        "\n",
        "# Split data into training and testing sets\n",
        "X_train, X_test, y_train, y_test = train_test_split(X_scaled, y, test_size=0.2, random_state=42)\n",
        "\n",
        "# Initialize and train the perceptron model\n",
        "perceptron = SimplePerceptron(input_dim=X_train.shape[1], lr=0.01, epochs=10)\n",
        "perceptron.train(X_train, y_train)\n",
        "\n",
        "# Plot accuracy over epochs\n",
        "perceptron.plot_accuracy()\n",
        "\n",
        "# Evaluate the model on the test set\n",
        "predictions = np.array([perceptron.predict(x) for x in X_test])\n",
        "accuracy = np.mean(predictions == y_test)\n",
        "print(f\"Model Accuracy on Test Set: {accuracy * 100:.2f}%\")\n",
        "\n",
        "# Test the model with user input\n",
        "def test_model(input_data):\n",
        "    input_data_scaled = scaler.transform([input_data])\n",
        "    prediction = perceptron.predict(input_data_scaled[0])\n",
        "    return \"Terindikasi Terkena Diabetes\" if prediction == 1 else \"Tidak Terindikasi Terkena Diabetes\"\n",
        "\n",
        "# Example input for testing\n",
        "test_input = [1, 65, 1, 1, 3, 35.0, 9.5, 200]\n",
        "result = test_model(test_input)\n",
        "print(f\"Test Result: {result}\")\n"
      ]
    }
  ],
  "metadata": {
    "colab": {
      "provenance": []
    },
    "kernelspec": {
      "display_name": "venv",
      "language": "python",
      "name": "python3"
    },
    "language_info": {
      "codemirror_mode": {
        "name": "ipython",
        "version": 3
      },
      "file_extension": ".py",
      "mimetype": "text/x-python",
      "name": "python",
      "nbconvert_exporter": "python",
      "pygments_lexer": "ipython3",
      "version": "3.11.9"
    }
  },
  "nbformat": 4,
  "nbformat_minor": 0
}
